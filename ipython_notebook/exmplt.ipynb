{
 "cells": [
  {
   "cell_type": "code",
   "execution_count": 54,
   "metadata": {},
   "outputs": [
    {
     "data": {
      "text/plain": [
       "<matplotlib.figure.Figure at 0x1a3adb574a8>"
      ]
     },
     "metadata": {},
     "output_type": "display_data"
    }
   ],
   "source": [
    "from matplotlib import pyplot as plt\n",
    "# %matplotlib inline\n",
    "\n",
    "tnode_style = dict(boxstyle=\"round4\", fc=\"1\")  # 定义判断节点形态\n",
    "leafNode = dict(boxstyle=\"round4\", fc=\"1\")  # 定义叶节点形态\n",
    "arrow_args = dict(arrowstyle=\"-\")  # 定义箭头\n",
    "\n",
    "axprops = dict(xticks=list(range(0, 101, 10)), yticks=list(range(0, 101, 10)))\n",
    "\n",
    "fig = plt.figure(1, facecolor='white')"
   ]
  },
  {
   "cell_type": "code",
   "execution_count": 68,
   "metadata": {},
   "outputs": [
    {
     "data": {
      "image/png": "[encoded data removed]",
      "text/plain": [
       "<matplotlib.figure.Figure at 0x1a3adbf35f8>"
      ]
     },
     "metadata": {},
     "output_type": "display_data"
    }
   ],
   "source": [
    "ax1 = plt.subplot(111, frameon=False, **axprops)\n",
    "\n",
    "x1,y1,x2,y2,x3,y3 = 10, 10, 10, 10+4, 30, 34\n",
    "text, anno = 'node1', 'arrow'\n",
    "\n",
    "ax1.text(x1, y1, text, va=\"center\", ha=\"center\", wrap=True, bbox=tnode_style)\n",
    "ax1.annotate(\n",
    "    anno, xy=(x2, y2), va=\"center\", ha=\"center\", xytext=(x3, y3), arrowprops=arrow_args,\n",
    "    xycoords='data', textcoords='data'\n",
    ")\n",
    "ax1.annotate(\n",
    "    '', xy=(x3, y3+2), va=\"center\", ha=\"center\", xytext=(x3+30, y3+32), arrowprops=arrow_args,\n",
    "    xycoords='data', textcoords='data'\n",
    ")\n",
    "\n",
    "def center_pt(pt1, pt2):\n",
    "    subx = pt1[0] + (pt2[0] - pt1[0]) / 2\n",
    "    suby = pt1[1] + (pt2[1] - pt1[1]) / 2\n",
    "    return (subx, suby)\n",
    "\n",
    "\n",
    "def arrow(pt1, pt2, text):\n",
    "    center = center_pt(pt1, pt2)\n",
    "    ax1.annotate(\n",
    "        anno, xy=pt1, va=\"center\", ha=\"center\", xytext=center, arrowprops=arrow_args,\n",
    "        xycoords='data', textcoords='data'\n",
    "    )\n",
    "    ax1.annotate(\n",
    "        '', xy=center, va=\"center\", ha=\"center\", xytext=pt2, arrowprops=arrow_args,\n",
    "        xycoords='data', textcoords='data'\n",
    "    )\n",
    "\n",
    "arrow((40, 60), (90, 0), 'hahha')\n",
    "\n",
    "plt.show()"
   ]
  },
  {
   "cell_type": "code",
   "execution_count": null,
   "metadata": {
    "collapsed": true
   },
   "outputs": [],
   "source": []
  }
 ],
 "metadata": {
  "kernelspec": {
   "display_name": "Python 3",
   "language": "python",
   "name": "python3"
  },
  "language_info": {
   "codemirror_mode": {
    "name": "ipython",
    "version": 3
   },
   "file_extension": ".py",
   "mimetype": "text/x-python",
   "name": "python",
   "nbconvert_exporter": "python",
   "pygments_lexer": "ipython3",
   "version": "3.6.3"
  }
 },
 "nbformat": 4,
 "nbformat_minor": 2
}
