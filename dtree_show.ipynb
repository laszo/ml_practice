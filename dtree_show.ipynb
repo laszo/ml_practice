{
 "cells": [
  {
   "cell_type": "code",
   "execution_count": 1,
   "metadata": {
    "collapsed": true
   },
   "outputs": [],
   "source": [
    "from dtree2 import *\n",
    "%matplotlib inline \n"
   ]
  },
  {
   "cell_type": "code",
   "execution_count": 3,
   "metadata": {},
   "outputs": [
    {
     "name": "stdout",
     "output_type": "stream",
     "text": [
      "('SMALL', 'F') 0.3\n",
      "('YELLOW', 'F') 0.3\n",
      "('STRETCH', 'T') 0.4\n",
      "('ADULT', 'T') 0.4\n",
      "('SMALL', 'F') 0.5\n",
      "('YELLOW', 'F') 0.5\n",
      "('ADULT', 'F') 0.5\n",
      "('YELLOW', 'F') 0.5\n",
      "('ADULT', 'F') 0.5\n",
      "('ADULT', 'F') 0.5\n"
     ]
    },
    {
     "data": {
      "image/png": "[encoded data removed]",
      "text/plain": [
       "<matplotlib.figure.Figure at 0x8bcd940>"
      ]
     },
     "metadata": {},
     "output_type": "display_data"
    },
    {
     "name": "stdout",
     "output_type": "stream",
     "text": [
      "node: 1.0 0.0 act\n",
      "arrow 1.0 0.0 2.0 1.0 DIP\n",
      "node: 2.0 1.0 size\n",
      "arrow 2.0 1.0 2.0 2.0 LARGE\n",
      "node: 2.0 2.0 Color\n",
      "arrow 2.0 2.0 2.0 3.0 YELLOW\n",
      "node: 2.0 3.0 age\n",
      "arrow 2.0 3.0 2.0 4.0 CHILD\n",
      "node: 2.0 4.0 F\n",
      "arrow 2.0 3.0 3.0 4.0 ADULT\n",
      "node: 3.0 4.0 F\n",
      "arrow 2.0 2.0 3.0 3.0 PURPLE\n",
      "node: 3.0 3.0 F\n",
      "arrow 2.0 1.0 3.0 2.0 SMALL\n",
      "node: 3.0 2.0 F\n",
      "arrow 1.0 0.0 3.0 1.0 STRETCH\n",
      "node: 3.0 1.0 T\n",
      "0.8\n"
     ]
    }
   ],
   "source": [
    "main()"
   ]
  },
  {
   "cell_type": "code",
   "execution_count": null,
   "metadata": {
    "collapsed": true
   },
   "outputs": [],
   "source": []
  }
 ],
 "metadata": {
  "kernelspec": {
   "display_name": "Python 3",
   "language": "python",
   "name": "python3"
  },
  "language_info": {
   "codemirror_mode": {
    "name": "ipython",
    "version": 3
   },
   "file_extension": ".py",
   "mimetype": "text/x-python",
   "name": "python",
   "nbconvert_exporter": "python",
   "pygments_lexer": "ipython3",
   "version": "3.6.3"
  }
 },
 "nbformat": 4,
 "nbformat_minor": 2
}
